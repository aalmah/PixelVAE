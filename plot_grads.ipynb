{
 "cells": [
  {
   "cell_type": "code",
   "execution_count": 1,
   "metadata": {
    "collapsed": false
   },
   "outputs": [
    {
     "name": "stderr",
     "output_type": "stream",
     "text": [
      "/Tmp/lisa/os_v5/anaconda/lib/python2.7/site-packages/matplotlib/font_manager.py:280: UserWarning: Matplotlib is building the font cache using fc-list. This may take a moment.\n",
      "  'Matplotlib is building the font cache using fc-list. '\n"
     ]
    }
   ],
   "source": [
    "%matplotlib inline\n",
    "import os\n",
    "import matplotlib\n",
    "import matplotlib.pyplot as plt\n",
    "import cPickle as pkl\n",
    "import numpy as np\n"
   ]
  },
  {
   "cell_type": "code",
   "execution_count": 2,
   "metadata": {
    "collapsed": false
   },
   "outputs": [],
   "source": [
    "\n",
    "def norm(v):\n",
    "    n = np.sqrt(np.sum(v*v, axis=-1))\n",
    "    return n\n",
    "\n",
    "def heat_map(pixel_grad):    \n",
    "    pixel_grad = norm(pixel_grad)\n",
    "    p = plt.pcolormesh(pixel_grad, cmap='Blues', edgecolor='k', linewidth=0.01, antialiased=False)\n",
    "    plt.axis([0, 32, 0, 32])\n",
    "    plt.gca().invert_yaxis()\n",
    "    plt.xticks(range(0,32, 5))\n",
    "    plt.show()\n",
    "    \n",
    "\n",
    "    "
   ]
  },
  {
   "cell_type": "code",
   "execution_count": 23,
   "metadata": {
    "collapsed": false
   },
   "outputs": [
    {
     "name": "stdout",
     "output_type": "stream",
     "text": [
      "0.463676\n",
      "0.0284186\n",
      "3.85673e-08\n",
      "4.18584e-08\n"
     ]
    },
    {
     "data": {
      "image/png": "[encoded data removed]",
      "text/plain": [
       "<matplotlib.figure.Figure at 0x7fb7a96da650>"
      ]
     },
     "metadata": {},
     "output_type": "display_data"
    },
    {
     "data": {
      "image/png": "[encoded data removed]",
      "text/plain": [
       "<matplotlib.figure.Figure at 0x7fb7a9b05a90>"
      ]
     },
     "metadata": {},
     "output_type": "display_data"
    }
   ],
   "source": [
    "grad = np.load('iter_1_log.npz')\n",
    "pixel_grad = grad['pixel_grad'][0].transpose(0,2,3,1)[:1]\n",
    "\n",
    "for grad in pixel_grad:\n",
    "    # binarizing to make sure I detect any gradient\n",
    "    bin_grad = (grad != 0).astype('int32')\n",
    "    print norm(grad[15,14,:])\n",
    "    print norm(grad[15,15,:])\n",
    "    print norm(grad[15,16,:])\n",
    "    print norm(grad[15,17,:])\n",
    "    heat_map(grad)\n",
    "    heat_map(bin_grad)"
   ]
  },
  {
   "cell_type": "code",
   "execution_count": null,
   "metadata": {
    "collapsed": true
   },
   "outputs": [],
   "source": []
  },
  {
   "cell_type": "code",
   "execution_count": null,
   "metadata": {
    "collapsed": true
   },
   "outputs": [],
   "source": []
  }
 ],
 "metadata": {
  "kernelspec": {
   "display_name": "Python 2",
   "language": "python",
   "name": "python2"
  },
  "language_info": {
   "codemirror_mode": {
    "name": "ipython",
    "version": 2
   },
   "file_extension": ".py",
   "mimetype": "text/x-python",
   "name": "python",
   "nbconvert_exporter": "python",
   "pygments_lexer": "ipython2",
   "version": "2.7.13"
  }
 },
 "nbformat": 4,
 "nbformat_minor": 2
}
